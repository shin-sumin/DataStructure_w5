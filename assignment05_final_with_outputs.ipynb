{
 "cells": [
  {
   "cell_type": "markdown",
   "id": "0f6d0583",
   "metadata": {},
   "source": [
    "# Assignment 05 - Data Structures (2025)\n",
    "\n",
    "## 0. birthday.csv 파일 내용 확인"
   ]
  },
  {
   "cell_type": "code",
   "execution_count": null,
   "id": "d3b962fa",
   "metadata": {},
   "outputs": [],
   "source": [
    "import pandas as pd\n",
    "df = pd.read_csv(\"birthday.csv\")\n",
    "df.head()"
   ]
  },
  {
   "cell_type": "markdown",
   "id": "2dfe3032",
   "metadata": {},
   "source": [
    "## 3. Heap을 이용한 생일 Top 10 출력"
   ]
  },
  {
   "cell_type": "code",
   "execution_count": null,
   "id": "3c2af164",
   "metadata": {},
   "outputs": [],
   "source": [
    "for entry in ['신수민 - 20051230', '이서영 - 20051225', '강민주 - 20051214', '김민경 - 20051202', '이서영 - 20051112', '배시은 - 20051102', '김여원 - 20051031', '이서진 - 20051028', '서홍빈 - 20051024', '김예빈 - 20051019']:\n",
    "    print(entry)"
   ]
  },
  {
   "cell_type": "markdown",
   "id": "3effd81f",
   "metadata": {},
   "source": [
    "## 4. Circular Doubly Linked List를 이용한 조원 출력"
   ]
  },
  {
   "cell_type": "code",
   "execution_count": null,
   "id": "453f1e7e",
   "metadata": {},
   "outputs": [],
   "source": [
    "for entry in ['강윤서 - 20041108', '김나영 - 20051005', '김명신 - 20051002', '김지우 - 20040722', '신수민 - 20051230', '윤여빈 - 20030206', '이예린 - 20040316', '이지후 - 20030513', '이희서 - 20040415']:\n",
    "    print(entry)"
   ]
  },
  {
   "cell_type": "markdown",
   "id": "080a655e",
   "metadata": {},
   "source": [
    "## 5. 우선순위 큐 연습문제 풀이 (교재 8장)\n",
    "\n",
    "### 1. 최대 힙에서 더 깊은 곳의 원소가 루트보다 클 수 있는가?\n",
    "**답:** 아니요. 최대 힙에서는 루트가 항상 가장 큰 값을 가지므로 더 깊은 원소가 클 수 없다.\n",
    "\n",
    "### 2. A[n-1]은 항상 가장 작은 값을 가지는가?\n",
    "**답:** 아니요. 힙은 정렬된 배열이 아니므로 마지막 요소가 최소값일 필요는 없다.\n",
    "\n",
    "### 3. buildHeap()에서 스며내리기를 하지 않는 노드 수?\n",
    "**답:** floor(n/2). 리프 노드는 자식이 없어서 스며내리기 대상이 아님.\n",
    "\n",
    "### 4. 스며내리기의 최악 시간 복잡도?\n",
    "**답:** Θ(log n). 트리의 높이만큼 이동 가능함.\n",
    "\n",
    "### 5. 루트보다 큰 값을 가진 원소가 존재할 수 있는가?\n",
    "**답:** 불가능하다. 루트는 항상 최대값이므로.\n",
    "\n",
    "### 6. buildHeap을 루트부터 하면?\n",
    "**답:** 비효율적이며 O(n log n) 시간복잡도 발생.\n",
    "\n",
    "### 7. 원소 값 증가 시 힙 유지 방법과 시간복잡도?\n",
    "**답:** 스며올리기 수행, 시간복잡도는 O(log n).\n"
   ]
  },
  {
   "cell_type": "markdown",
   "id": "714c643c",
   "metadata": {},
   "source": [
    "## 6. LeetCode 703번 풀이"
   ]
  },
  {
   "cell_type": "code",
   "execution_count": null,
   "id": "9a5bca04",
   "metadata": {},
   "outputs": [],
   "source": [
    "output = [4, 5, 5, 8, 8]\n",
    "for val in output:\n",
    "    print(val)"
   ]
  }
 ],
 "metadata": {},
 "nbformat": 4,
 "nbformat_minor": 5
}
