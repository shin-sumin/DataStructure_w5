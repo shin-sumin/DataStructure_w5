{
  "cells": [
    {
      "cell_type": "markdown",
      "metadata": {
        "id": "view-in-github",
        "colab_type": "text"
      },
      "source": [
        "<a href=\"https://colab.research.google.com/github/shin-sumin/DataStructure_w5/blob/main/assignment05_final_code_and_output_ready.ipynb\" target=\"_parent\"><img src=\"https://colab.research.google.com/assets/colab-badge.svg\" alt=\"Open In Colab\"/></a>"
      ]
    },
    {
      "cell_type": "code",
      "source": [
        "from google.colab import files\n",
        "uploaded = files.upload()"
      ],
      "metadata": {
        "colab": {
          "base_uri": "https://localhost:8080/",
          "height": 76
        },
        "id": "hbPuBFjvqxdO",
        "outputId": "10fb17a2-c185-4175-8aac-15704e46006b"
      },
      "id": "hbPuBFjvqxdO",
      "execution_count": 7,
      "outputs": [
        {
          "output_type": "display_data",
          "data": {
            "text/plain": [
              "<IPython.core.display.HTML object>"
            ],
            "text/html": [
              "\n",
              "     <input type=\"file\" id=\"files-d6e02e6c-d5e0-4727-b0c9-2d6619a2201b\" name=\"files[]\" multiple disabled\n",
              "        style=\"border:none\" />\n",
              "     <output id=\"result-d6e02e6c-d5e0-4727-b0c9-2d6619a2201b\">\n",
              "      Upload widget is only available when the cell has been executed in the\n",
              "      current browser session. Please rerun this cell to enable.\n",
              "      </output>\n",
              "      <script>// Copyright 2017 Google LLC\n",
              "//\n",
              "// Licensed under the Apache License, Version 2.0 (the \"License\");\n",
              "// you may not use this file except in compliance with the License.\n",
              "// You may obtain a copy of the License at\n",
              "//\n",
              "//      http://www.apache.org/licenses/LICENSE-2.0\n",
              "//\n",
              "// Unless required by applicable law or agreed to in writing, software\n",
              "// distributed under the License is distributed on an \"AS IS\" BASIS,\n",
              "// WITHOUT WARRANTIES OR CONDITIONS OF ANY KIND, either express or implied.\n",
              "// See the License for the specific language governing permissions and\n",
              "// limitations under the License.\n",
              "\n",
              "/**\n",
              " * @fileoverview Helpers for google.colab Python module.\n",
              " */\n",
              "(function(scope) {\n",
              "function span(text, styleAttributes = {}) {\n",
              "  const element = document.createElement('span');\n",
              "  element.textContent = text;\n",
              "  for (const key of Object.keys(styleAttributes)) {\n",
              "    element.style[key] = styleAttributes[key];\n",
              "  }\n",
              "  return element;\n",
              "}\n",
              "\n",
              "// Max number of bytes which will be uploaded at a time.\n",
              "const MAX_PAYLOAD_SIZE = 100 * 1024;\n",
              "\n",
              "function _uploadFiles(inputId, outputId) {\n",
              "  const steps = uploadFilesStep(inputId, outputId);\n",
              "  const outputElement = document.getElementById(outputId);\n",
              "  // Cache steps on the outputElement to make it available for the next call\n",
              "  // to uploadFilesContinue from Python.\n",
              "  outputElement.steps = steps;\n",
              "\n",
              "  return _uploadFilesContinue(outputId);\n",
              "}\n",
              "\n",
              "// This is roughly an async generator (not supported in the browser yet),\n",
              "// where there are multiple asynchronous steps and the Python side is going\n",
              "// to poll for completion of each step.\n",
              "// This uses a Promise to block the python side on completion of each step,\n",
              "// then passes the result of the previous step as the input to the next step.\n",
              "function _uploadFilesContinue(outputId) {\n",
              "  const outputElement = document.getElementById(outputId);\n",
              "  const steps = outputElement.steps;\n",
              "\n",
              "  const next = steps.next(outputElement.lastPromiseValue);\n",
              "  return Promise.resolve(next.value.promise).then((value) => {\n",
              "    // Cache the last promise value to make it available to the next\n",
              "    // step of the generator.\n",
              "    outputElement.lastPromiseValue = value;\n",
              "    return next.value.response;\n",
              "  });\n",
              "}\n",
              "\n",
              "/**\n",
              " * Generator function which is called between each async step of the upload\n",
              " * process.\n",
              " * @param {string} inputId Element ID of the input file picker element.\n",
              " * @param {string} outputId Element ID of the output display.\n",
              " * @return {!Iterable<!Object>} Iterable of next steps.\n",
              " */\n",
              "function* uploadFilesStep(inputId, outputId) {\n",
              "  const inputElement = document.getElementById(inputId);\n",
              "  inputElement.disabled = false;\n",
              "\n",
              "  const outputElement = document.getElementById(outputId);\n",
              "  outputElement.innerHTML = '';\n",
              "\n",
              "  const pickedPromise = new Promise((resolve) => {\n",
              "    inputElement.addEventListener('change', (e) => {\n",
              "      resolve(e.target.files);\n",
              "    });\n",
              "  });\n",
              "\n",
              "  const cancel = document.createElement('button');\n",
              "  inputElement.parentElement.appendChild(cancel);\n",
              "  cancel.textContent = 'Cancel upload';\n",
              "  const cancelPromise = new Promise((resolve) => {\n",
              "    cancel.onclick = () => {\n",
              "      resolve(null);\n",
              "    };\n",
              "  });\n",
              "\n",
              "  // Wait for the user to pick the files.\n",
              "  const files = yield {\n",
              "    promise: Promise.race([pickedPromise, cancelPromise]),\n",
              "    response: {\n",
              "      action: 'starting',\n",
              "    }\n",
              "  };\n",
              "\n",
              "  cancel.remove();\n",
              "\n",
              "  // Disable the input element since further picks are not allowed.\n",
              "  inputElement.disabled = true;\n",
              "\n",
              "  if (!files) {\n",
              "    return {\n",
              "      response: {\n",
              "        action: 'complete',\n",
              "      }\n",
              "    };\n",
              "  }\n",
              "\n",
              "  for (const file of files) {\n",
              "    const li = document.createElement('li');\n",
              "    li.append(span(file.name, {fontWeight: 'bold'}));\n",
              "    li.append(span(\n",
              "        `(${file.type || 'n/a'}) - ${file.size} bytes, ` +\n",
              "        `last modified: ${\n",
              "            file.lastModifiedDate ? file.lastModifiedDate.toLocaleDateString() :\n",
              "                                    'n/a'} - `));\n",
              "    const percent = span('0% done');\n",
              "    li.appendChild(percent);\n",
              "\n",
              "    outputElement.appendChild(li);\n",
              "\n",
              "    const fileDataPromise = new Promise((resolve) => {\n",
              "      const reader = new FileReader();\n",
              "      reader.onload = (e) => {\n",
              "        resolve(e.target.result);\n",
              "      };\n",
              "      reader.readAsArrayBuffer(file);\n",
              "    });\n",
              "    // Wait for the data to be ready.\n",
              "    let fileData = yield {\n",
              "      promise: fileDataPromise,\n",
              "      response: {\n",
              "        action: 'continue',\n",
              "      }\n",
              "    };\n",
              "\n",
              "    // Use a chunked sending to avoid message size limits. See b/62115660.\n",
              "    let position = 0;\n",
              "    do {\n",
              "      const length = Math.min(fileData.byteLength - position, MAX_PAYLOAD_SIZE);\n",
              "      const chunk = new Uint8Array(fileData, position, length);\n",
              "      position += length;\n",
              "\n",
              "      const base64 = btoa(String.fromCharCode.apply(null, chunk));\n",
              "      yield {\n",
              "        response: {\n",
              "          action: 'append',\n",
              "          file: file.name,\n",
              "          data: base64,\n",
              "        },\n",
              "      };\n",
              "\n",
              "      let percentDone = fileData.byteLength === 0 ?\n",
              "          100 :\n",
              "          Math.round((position / fileData.byteLength) * 100);\n",
              "      percent.textContent = `${percentDone}% done`;\n",
              "\n",
              "    } while (position < fileData.byteLength);\n",
              "  }\n",
              "\n",
              "  // All done.\n",
              "  yield {\n",
              "    response: {\n",
              "      action: 'complete',\n",
              "    }\n",
              "  };\n",
              "}\n",
              "\n",
              "scope.google = scope.google || {};\n",
              "scope.google.colab = scope.google.colab || {};\n",
              "scope.google.colab._files = {\n",
              "  _uploadFiles,\n",
              "  _uploadFilesContinue,\n",
              "};\n",
              "})(self);\n",
              "</script> "
            ]
          },
          "metadata": {}
        },
        {
          "output_type": "stream",
          "name": "stdout",
          "text": [
            "Saving birthday.csv to birthday (1).csv\n"
          ]
        }
      ]
    },
    {
      "cell_type": "markdown",
      "id": "6878cbbc",
      "metadata": {
        "id": "6878cbbc"
      },
      "source": [
        "## 3. Heap을 이용한 생일 Top 10 출력"
      ]
    },
    {
      "cell_type": "code",
      "execution_count": 8,
      "id": "9ca39219",
      "metadata": {
        "colab": {
          "base_uri": "https://localhost:8080/"
        },
        "id": "9ca39219",
        "outputId": "c18ba1fa-a265-4264-a89e-af93a3071a11"
      },
      "outputs": [
        {
          "output_type": "stream",
          "name": "stdout",
          "text": [
            "신수민 - 20051230.0\n",
            "이서영 - 20051225.0\n",
            "강민주 - 20051214.0\n",
            "김민경 - 20051202.0\n",
            "이서영 - 20051112.0\n",
            "배시은 - 20051102.0\n",
            "김여원 - 20051031.0\n",
            "이서진 - 20051028.0\n",
            "서홍빈 - 20051024.0\n",
            "김예빈 - 20051019.0\n"
          ]
        }
      ],
      "source": [
        "import pandas as pd\n",
        "import heapq\n",
        "from datetime import datetime\n",
        "\n",
        "df = pd.read_csv(\"birthday.csv\")\n",
        "birthday_data = []\n",
        "for _, row in df.iterrows():\n",
        "    name = row[\"이름\"]\n",
        "    birth_str = row[\"생년월일\"]\n",
        "    if pd.notna(birth_str):\n",
        "        try:\n",
        "            birthdate = datetime.strptime(str(int(birth_str)), \"%Y%m%d\")\n",
        "            heapq.heappush(birthday_data, (-birthdate.timestamp(), name, birth_str))\n",
        "        except:\n",
        "            pass\n",
        "\n",
        "result = [f\"{name} - {birth}\" for _, name, birth in heapq.nsmallest(10, birthday_data)]\n",
        "for entry in result:\n",
        "    print(entry)"
      ]
    },
    {
      "cell_type": "markdown",
      "id": "5a08f508",
      "metadata": {
        "id": "5a08f508"
      },
      "source": [
        "## 4. Circular Doubly Linked List를 이용한 조원 출력"
      ]
    },
    {
      "cell_type": "code",
      "execution_count": 9,
      "id": "58dca8f3",
      "metadata": {
        "colab": {
          "base_uri": "https://localhost:8080/"
        },
        "id": "58dca8f3",
        "outputId": "1ca3b8a3-1520-4201-e2c0-d94c1ed7d51b"
      },
      "outputs": [
        {
          "output_type": "stream",
          "name": "stdout",
          "text": [
            "강윤서 - 20041108.0\n",
            "김나영 - 20051005.0\n",
            "김명신 - 20051002.0\n",
            "김지우 - 20040722.0\n",
            "신수민 - 20051230.0\n",
            "윤여빈 - 20030206.0\n",
            "이예린 - 20040316.0\n",
            "이지후 - 20030513.0\n",
            "이희서 - 20040415.0\n"
          ]
        }
      ],
      "source": [
        "class Node:\n",
        "    def __init__(self, name, birthdate):\n",
        "        self.name = name\n",
        "        self.birthdate = birthdate\n",
        "        self.prev = None\n",
        "        self.next = None\n",
        "\n",
        "class CircularDoublyLinkedList:\n",
        "    def __init__(self):\n",
        "        self.head = None\n",
        "\n",
        "    def append(self, name, birthdate):\n",
        "        new_node = Node(name, birthdate)\n",
        "        if not self.head:\n",
        "            self.head = new_node\n",
        "            new_node.prev = new_node\n",
        "            new_node.next = new_node\n",
        "        else:\n",
        "            tail = self.head.prev\n",
        "            tail.next = new_node\n",
        "            new_node.prev = tail\n",
        "            new_node.next = self.head\n",
        "            self.head.prev = new_node\n",
        "\n",
        "    def find_by_names(self, names):\n",
        "        result = []\n",
        "        if not self.head:\n",
        "            return result\n",
        "        current = self.head\n",
        "        while True:\n",
        "            if current.name in names:\n",
        "                result.append((current.name, current.birthdate))\n",
        "            current = current.next\n",
        "            if current == self.head:\n",
        "                break\n",
        "        return result\n",
        "\n",
        "group_mates = {\"윤여빈\", \"강윤서\", \"김나영\", \"김명신\", \"김지우\", \"이예린\", \"이희서\", \"이지후\", \"신수민\"}\n",
        "\n",
        "cdll = CircularDoublyLinkedList()\n",
        "for _, row in df.iterrows():\n",
        "    cdll.append(row[\"이름\"], row[\"생년월일\"])\n",
        "\n",
        "selected = cdll.find_by_names(group_mates)\n",
        "for name, birth in selected:\n",
        "    print(f\"{name} - {birth}\")"
      ]
    },
    {
      "cell_type": "markdown",
      "id": "a01d980e",
      "metadata": {
        "id": "a01d980e"
      },
      "source": [
        "## 5. 우선순위 큐 연습문제 풀이 (교재 8장)\n",
        "\n",
        "### 1. 최대 힙에서 더 깊은 곳의 원소가 루트보다 클 수 있는가?\n",
        "**답:** 아니요. 최대 힙에서는 루트가 항상 가장 큰 값을 가지므로 더 깊은 원소가 클 수 없다.\n",
        "\n",
        "### 2. A[n-1]은 항상 가장 작은 값을 가지는가?\n",
        "**답:** 아니요. 힙은 정렬된 배열이 아니므로 마지막 요소가 최소값일 필요는 없다.\n",
        "\n",
        "### 3. buildHeap()에서 스며내리기를 하지 않는 노드 수?\n",
        "**답:** floor(n/2). 리프 노드는 자식이 없어서 스며내리기 대상이 아님.\n",
        "\n",
        "### 4. 스며내리기의 최악 시간 복잡도?\n",
        "**답:** Θ(log n). 트리의 높이만큼 이동 가능함.\n",
        "\n",
        "### 5. 루트보다 큰 값을 가진 원소가 존재할 수 있는가?\n",
        "**답:** 불가능하다. 루트는 항상 최대값이므로.\n",
        "\n",
        "### 6. buildHeap을 루트부터 하면?\n",
        "**답:** 비효율적이며 O(n log n) 시간복잡도 발생.\n",
        "\n",
        "### 7. 원소 값 증가 시 힙 유지 방법과 시간복잡도?\n",
        "**답:** 스며올리기 수행, 시간복잡도는 O(log n).\n"
      ]
    },
    {
      "cell_type": "markdown",
      "id": "d1094dd7",
      "metadata": {
        "id": "d1094dd7"
      },
      "source": [
        "## 6. LeetCode 703번 풀이"
      ]
    },
    {
      "cell_type": "code",
      "execution_count": 10,
      "id": "fbff4020",
      "metadata": {
        "colab": {
          "base_uri": "https://localhost:8080/"
        },
        "id": "fbff4020",
        "outputId": "5992275b-f4a0-4cad-babd-a66eb5f8661f"
      },
      "outputs": [
        {
          "output_type": "stream",
          "name": "stdout",
          "text": [
            "4\n",
            "5\n",
            "5\n",
            "8\n",
            "8\n"
          ]
        }
      ],
      "source": [
        "import heapq\n",
        "\n",
        "class KthLargest:\n",
        "\n",
        "    def __init__(self, k, nums):\n",
        "        self.k = k\n",
        "        self.min_heap = nums\n",
        "        heapq.heapify(self.min_heap)\n",
        "        while len(self.min_heap) > k:\n",
        "            heapq.heappop(self.min_heap)\n",
        "\n",
        "    def add(self, val):\n",
        "        heapq.heappush(self.min_heap, val)\n",
        "        if len(self.min_heap) > self.k:\n",
        "            heapq.heappop(self.min_heap)\n",
        "        return self.min_heap[0]\n",
        "\n",
        "kth = KthLargest(3, [4, 5, 8, 2])\n",
        "print(kth.add(3))\n",
        "print(kth.add(5))\n",
        "print(kth.add(10))\n",
        "print(kth.add(9))\n",
        "print(kth.add(4))"
      ]
    }
  ],
  "metadata": {
    "colab": {
      "provenance": [],
      "include_colab_link": true
    },
    "language_info": {
      "name": "python"
    },
    "kernelspec": {
      "name": "python3",
      "display_name": "Python 3"
    }
  },
  "nbformat": 4,
  "nbformat_minor": 5
}