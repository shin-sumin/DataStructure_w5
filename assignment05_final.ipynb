{
 "cells": [
  {
   "cell_type": "markdown",
   "id": "0027b46e",
   "metadata": {},
   "source": [
    "# Assignment 05 - Data Structures (2025)\n",
    "\n",
    "## 0. birthday.csv 파일 내용 확인"
   ]
  },
  {
   "cell_type": "code",
   "execution_count": null,
   "id": "2d456a4d",
   "metadata": {},
   "outputs": [],
   "source": [
    "import pandas as pd\n",
    "df = pd.read_csv(\"birthday.csv\")\n",
    "df.head()"
   ]
  },
  {
   "cell_type": "markdown",
   "id": "fe0ba50b",
   "metadata": {},
   "source": [
    "## 3. Heap을 이용한 생일 Top 10 출력"
   ]
  },
  {
   "cell_type": "code",
   "execution_count": null,
   "id": "eb77e4bd",
   "metadata": {},
   "outputs": [],
   "source": [
    "import csv\n",
    "import heapq\n",
    "from datetime import datetime\n",
    "\n",
    "birthday_data = []\n",
    "with open(\"birthday.csv\", newline=\"\", encoding=\"utf-8\") as csvfile:\n",
    "    reader = csv.DictReader(csvfile)\n",
    "    for row in reader:\n",
    "        name = row[\"이름\"]\n",
    "        birth_str = row[\"생년월일\"]\n",
    "        if birth_str:\n",
    "            try:\n",
    "                birthdate = datetime.strptime(birth_str, \"%Y%m%d\")\n",
    "                heapq.heappush(birthday_data, (-birthdate.timestamp(), name, birth_str))\n",
    "            except ValueError:\n",
    "                pass\n",
    "\n",
    "latest_birthdays = heapq.nsmallest(10, birthday_data)\n",
    "\n",
    "print(\"생일이 가장 늦은 친구 10명:\")\n",
    "for _, name, birth in latest_birthdays:\n",
    "    print(f\"{name} - {birth}\")"
   ]
  },
  {
   "cell_type": "markdown",
   "id": "2e1a7ac6",
   "metadata": {},
   "source": [
    "## 4. Circular Doubly Linked List를 이용한 조원 출력"
   ]
  },
  {
   "cell_type": "code",
   "execution_count": null,
   "id": "b5dd33ac",
   "metadata": {},
   "outputs": [],
   "source": [
    "class Node:\n",
    "    def __init__(self, name, birthdate):\n",
    "        self.name = name\n",
    "        self.birthdate = birthdate\n",
    "        self.prev = None\n",
    "        self.next = None\n",
    "\n",
    "class CircularDoublyLinkedList:\n",
    "    def __init__(self):\n",
    "        self.head = None\n",
    "\n",
    "    def append(self, name, birthdate):\n",
    "        new_node = Node(name, birthdate)\n",
    "        if not self.head:\n",
    "            self.head = new_node\n",
    "            new_node.prev = new_node\n",
    "            new_node.next = new_node\n",
    "        else:\n",
    "            tail = self.head.prev\n",
    "            tail.next = new_node\n",
    "            new_node.prev = tail\n",
    "            new_node.next = self.head\n",
    "            self.head.prev = new_node\n",
    "\n",
    "    def find_by_names(self, names):\n",
    "        result = []\n",
    "        if not self.head:\n",
    "            return result\n",
    "        current = self.head\n",
    "        while True:\n",
    "            if current.name in names:\n",
    "                result.append((current.name, current.birthdate))\n",
    "            current = current.next\n",
    "            if current == self.head:\n",
    "                break\n",
    "        return result"
   ]
  },
  {
   "cell_type": "code",
   "execution_count": null,
   "id": "b0d6fe1c",
   "metadata": {},
   "outputs": [],
   "source": [
    "import csv\n",
    "\n",
    "group_mates = {\"윤여빈\", \"강윤서\", \"김나영\", \"김명신\", \"김지우\", \"이예린\", \"이희서\", \"이지후\", \"신수민\"}\n",
    "\n",
    "cdll = CircularDoublyLinkedList()\n",
    "with open(\"birthday.csv\", newline=\"\", encoding=\"utf-8\") as csvfile:\n",
    "    reader = csv.DictReader(csvfile)\n",
    "    for row in reader:\n",
    "        name = row[\"이름\"]\n",
    "        birth = row[\"생년월일\"]\n",
    "        cdll.append(name, birth)\n",
    "\n",
    "selected = cdll.find_by_names(group_mates)\n",
    "print(\"같은 조 친구들의 생일 정보:\")\n",
    "for name, birth in selected:\n",
    "    print(f\"{name} - {birth}\")"
   ]
  },
  {
   "cell_type": "markdown",
   "id": "78a822ae",
   "metadata": {},
   "source": [
    "## 5. 우선순위 큐 연습문제 풀이 (교재 8장)\n",
    "\n",
    "### 1. 최대 힙에서 더 깊은 곳의 원소가 루트보다 클 수 있는가?\n",
    "**답:** 아니요. 최대 힙에서는 루트가 항상 가장 큰 값을 가지므로 더 깊은 원소가 클 수 없다.\n",
    "\n",
    "### 2. A[n-1]은 항상 가장 작은 값을 가지는가?\n",
    "**답:** 아니요. 힙은 정렬된 배열이 아니므로 마지막 요소가 최소값일 필요는 없다.\n",
    "\n",
    "### 3. buildHeap()에서 스며내리기를 하지 않는 노드 수?\n",
    "**답:** floor(n/2). 리프 노드는 자식이 없어서 스며내리기 대상이 아님.\n",
    "\n",
    "### 4. 스며내리기의 최악 시간 복잡도?\n",
    "**답:** Θ(log n). 트리의 높이만큼 이동 가능함.\n",
    "\n",
    "### 5. 루트보다 큰 값을 가진 원소가 존재할 수 있는가?\n",
    "**답:** 불가능하다. 루트는 항상 최대값이므로.\n",
    "\n",
    "### 6. buildHeap을 루트부터 하면?\n",
    "**답:** 비효율적이며 O(n log n) 시간복잡도 발생.\n",
    "\n",
    "### 7. 원소 값 증가 시 힙 유지 방법과 시간복잡도?\n",
    "**답:** 스며올리기 수행, 시간복잡도는 O(log n).\n"
   ]
  },
  {
   "cell_type": "markdown",
   "id": "47536c4c",
   "metadata": {},
   "source": [
    "## 6. LeetCode 703번 풀이"
   ]
  },
  {
   "cell_type": "markdown",
   "id": "9c682e87",
   "metadata": {},
   "source": [
    "### 문제 설명:\n",
    "정수 `k`와 초기 숫자 리스트 `nums`가 주어졌을 때,\n",
    "데이터 스트림에서 k번째로 큰 요소를 지속적으로 반환하는 클래스를 구현한다.\n",
    "\n",
    "### 풀이 전략:\n",
    "- 크기 `k`인 **최소 힙(min heap)** 을 유지\n",
    "- 새 값을 추가할 때마다 힙에 넣고, 크기가 `k`보다 크면 가장 작은 값 제거\n",
    "- 항상 k번째로 큰 값을 힙의 루트로 유지"
   ]
  },
  {
   "cell_type": "code",
   "execution_count": null,
   "id": "aee9baf3",
   "metadata": {},
   "outputs": [],
   "source": [
    "import heapq\n",
    "\n",
    "class KthLargest:\n",
    "\n",
    "    def __init__(self, k, nums):\n",
    "        self.k = k\n",
    "        self.min_heap = nums\n",
    "        heapq.heapify(self.min_heap)\n",
    "        while len(self.min_heap) > k:\n",
    "            heapq.heappop(self.min_heap)\n",
    "\n",
    "    def add(self, val):\n",
    "        heapq.heappush(self.min_heap, val)\n",
    "        if len(self.min_heap) > self.k:\n",
    "            heapq.heappop(self.min_heap)\n",
    "        return self.min_heap[0]"
   ]
  },
  {
   "cell_type": "markdown",
   "id": "94226238",
   "metadata": {},
   "source": [
    "### 시간 복잡도:\n",
    "- `__init__`: O(n log n)\n",
    "- `add`: O(log k)\n",
    "\n",
    "### 공간 복잡도:\n",
    "- O(k)\n",
    "\n",
    "### 결과:\n",
    "효율적인 최소 힙 기반 풀이로 k번째로 큰 값을 스트리밍 방식으로 유지 가능"
   ]
  }
 ],
 "metadata": {},
 "nbformat": 4,
 "nbformat_minor": 5
}
